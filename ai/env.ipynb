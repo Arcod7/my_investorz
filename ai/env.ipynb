{
 "cells": [
  {
   "attachments": {},
   "cell_type": "markdown",
   "metadata": {},
   "source": [
    "### IMPORT"
   ]
  },
  {
   "cell_type": "code",
   "execution_count": 7,
   "metadata": {},
   "outputs": [],
   "source": [
    "import pandas as pd\n",
    "import numpy as np\n",
    "import random\n",
    "import torch\n",
    "from torch import nn\n",
    "\n",
    "import matplotlib.pyplot as plt\n",
    "from matplotlib import animation\n",
    "from sklearn.preprocessing import StandardScaler"
   ]
  },
  {
   "attachments": {},
   "cell_type": "markdown",
   "metadata": {},
   "source": [
    "### DATA GETTER\n",
    "Get the data for train and use the bot"
   ]
  },
  {
   "cell_type": "code",
   "execution_count": null,
   "metadata": {},
   "outputs": [],
   "source": [
    "class DataGetter:\n",
    "\n",
    "  def __init__(self, asset=\"ETH-USD\", start_date=None, end_date=None, freq=\"1d\", timeframes=[1, 2, 5, 10, 20, 40]):\n",
    "    self.asset = asset\n",
    "    self.sd = start_date\n",
    "    self.ed = end_date\n",
    "    self.freq = freq\n",
    "\n",
    "    self.timeframes = timeframes\n",
    "    self.getData()\n",
    "\n",
    "    self.scaler = StandardScaler()\n",
    "    self.scaler.fit(self.data[:, 1:])\n",
    "\n",
    "\n",
    "  def getData(self):\n",
    "    \n",
    "    asset = self.asset  \n",
    "    #link to download : https://drive.google.com/drive/folders/1kfz3Ra3lgoqII5fL-t68qRr7gd0UQcFB?usp=sharing\n",
    "    df = pd.read_csv(\"../../ETH_1min_dataset.csv\")\n",
    "    \n",
    "    # Reward - Not included in Observation Space.\n",
    "    df[\"rf\"] = df[\"Adj Close\"].pct_change().shift(-1)\n",
    "\n",
    "    # Returns and Trading Volume Changes\n",
    "    for i in self.timeframes:\n",
    "      df_spy[f\"spy_ret-{i}\"] = df_spy[\"Adj Close\"].pct_change(i)\n",
    "      df_spy[f\"spy_v-{i}\"] = df_spy[\"Volume\"].pct_change(i)\n",
    "\n",
    "      df[f\"r-{i}\"] = df[\"Adj Close\"].pct_change(i)      \n",
    "      df[f\"v-{i}\"] = df[\"Volume\"].pct_change(i)\n",
    "    \n",
    "    # Volatility\n",
    "    for i in [5, 10, 20, 40]:\n",
    "      df[f'sig-{i}'] = np.log(1 + df[\"r-1\"]).rolling(i).std()\n",
    "\n",
    "    # Moving Average Convergence Divergence (MACD)\n",
    "    df[\"macd_lmw\"] = df[\"r-1\"].ewm(span=26, adjust=False).mean()\n",
    "    df[\"macd_smw\"] = df[\"r-1\"].ewm(span=12, adjust=False).mean()\n",
    "    df[\"macd_bl\"] = df[\"r-1\"].ewm(span=9, adjust=False).mean()\n",
    "    df[\"macd\"] = df[\"macd_smw\"] - df[\"macd_lmw\"]\n",
    "\n",
    "    # Relative Strength Indicator (RSI)\n",
    "    rsi_lb = 5\n",
    "    pos_gain = df[\"r-1\"].where(df[\"r-1\"] > 0, 0).ewm(rsi_lb).mean()\n",
    "    neg_gain = df[\"r-1\"].where(df[\"r-1\"] < 0, 0).ewm(rsi_lb).mean()\n",
    "    rs = np.abs(pos_gain/neg_gain)\n",
    "    df[\"rsi\"] = 100 * rs/(1 + rs)\n",
    "\n",
    "    # Bollinger Bands\n",
    "    bollinger_lback = 10\n",
    "    df[\"bollinger\"] = df[\"r-1\"].ewm(bollinger_lback).mean()\n",
    "    df[\"low_bollinger\"] = df[\"bollinger\"] - 2 * df[\"r-1\"].rolling(bollinger_lback).std()\n",
    "    df[\"high_bollinger\"] = df[\"bollinger\"] + 2 * df[\"r-1\"].rolling(bollinger_lback).std()\n",
    "\n",
    "    # SP500\n",
    "    df = df.merge(df_spy[[f\"spy_ret-{i}\" for i in self.timeframes] + [f\"spy_sig-{i}\" for i in [5, 10, 20, 40]]], \n",
    "                  how=\"left\", right_index=True, left_index=True)\n",
    "\n",
    "    # Filtering\n",
    "    for c in df.columns:\n",
    "      df[c].interpolate('linear', limit_direction='both', inplace=True)\n",
    "    df.replace([np.inf, -np.inf], np.nan, inplace=True)\n",
    "    df.dropna(inplace=True)\n",
    "\n",
    "    self.frame = df\n",
    "    self.data = np.array(df.iloc[:, 6:])\n",
    "    return\n",
    "\n",
    "\n",
    "  def scaleData(self):\n",
    "    self.scaled_data = self.scaler.fit_transform(self.data[:, 1:])\n",
    "    return\n",
    "\n",
    "\n",
    "  def __len__(self):\n",
    "    return len(self.data)\n",
    "\n",
    "\n",
    "  def __getitem__(self, idx, col_idx=None):\n",
    "    if col_idx is None:\n",
    "      return self.data[idx]\n",
    "    elif col_idx < len(list(self.data.columns)):\n",
    "      return self.data[idx][col_idx]\n",
    "    else:\n",
    "      raise IndexError"
   ]
  }
 ],
 "metadata": {
  "kernelspec": {
   "display_name": "Python 3",
   "language": "python",
   "name": "python3"
  },
  "language_info": {
   "codemirror_mode": {
    "name": "ipython",
    "version": 3
   },
   "file_extension": ".py",
   "mimetype": "text/x-python",
   "name": "python",
   "nbconvert_exporter": "python",
   "pygments_lexer": "ipython3",
   "version": "3.10.9"
  },
  "orig_nbformat": 4,
  "vscode": {
   "interpreter": {
    "hash": "e7370f93d1d0cde622a1f8e1c04877d8463912d04d973331ad4851f04de6915a"
   }
  }
 },
 "nbformat": 4,
 "nbformat_minor": 2
}
