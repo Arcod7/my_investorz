{
 "cells": [
  {
   "cell_type": "code",
   "execution_count": 1,
   "metadata": {},
   "outputs": [],
   "source": [
    "import alpaca_trade_api as tradeapi"
   ]
  },
  {
   "cell_type": "code",
   "execution_count": 18,
   "metadata": {},
   "outputs": [
    {
     "ename": "APIError",
     "evalue": "position does not exist",
     "output_type": "error",
     "traceback": [
      "\u001b[0;31m---------------------------------------------------------------------------\u001b[0m",
      "\u001b[0;31mHTTPError\u001b[0m                                 Traceback (most recent call last)",
      "File \u001b[0;32m~/.local/lib/python3.10/site-packages/alpaca_trade_api/rest.py:234\u001b[0m, in \u001b[0;36mREST._one_request\u001b[0;34m(self, method, url, opts, retry)\u001b[0m\n\u001b[1;32m    233\u001b[0m \u001b[39mtry\u001b[39;00m:\n\u001b[0;32m--> 234\u001b[0m     resp\u001b[39m.\u001b[39;49mraise_for_status()\n\u001b[1;32m    235\u001b[0m \u001b[39mexcept\u001b[39;00m HTTPError \u001b[39mas\u001b[39;00m http_error:\n\u001b[1;32m    236\u001b[0m     \u001b[39m# retry if we hit Rate Limit\u001b[39;00m\n",
      "File \u001b[0;32m~/.local/lib/python3.10/site-packages/requests/models.py:941\u001b[0m, in \u001b[0;36mResponse.raise_for_status\u001b[0;34m(self)\u001b[0m\n\u001b[1;32m    940\u001b[0m \u001b[39mif\u001b[39;00m http_error_msg:\n\u001b[0;32m--> 941\u001b[0m     \u001b[39mraise\u001b[39;00m HTTPError(http_error_msg, response\u001b[39m=\u001b[39m\u001b[39mself\u001b[39m)\n",
      "\u001b[0;31mHTTPError\u001b[0m: 404 Client Error: Not Found for url: https://paper-api.alpaca.markets/v2/positions/ETHUSD",
      "\nDuring handling of the above exception, another exception occurred:\n",
      "\u001b[0;31mAPIError\u001b[0m                                  Traceback (most recent call last)",
      "Cell \u001b[0;32mIn[18], line 42\u001b[0m\n\u001b[1;32m     39\u001b[0m             \u001b[39mself\u001b[39m\u001b[39m.\u001b[39mcurrent_order \u001b[39m=\u001b[39m \u001b[39mself\u001b[39m\u001b[39m.\u001b[39mapi\u001b[39m.\u001b[39msubmit_order(\u001b[39mself\u001b[39m\u001b[39m.\u001b[39msymbol, sell_quantity, \u001b[39m'\u001b[39m\u001b[39msell\u001b[39m\u001b[39m'\u001b[39m, \u001b[39m'\u001b[39m\u001b[39mlimit\u001b[39m\u001b[39m'\u001b[39m, \u001b[39m'\u001b[39m\u001b[39mgtc\u001b[39m\u001b[39m'\u001b[39m, \u001b[39mself\u001b[39m\u001b[39m.\u001b[39mlast_price)\n\u001b[1;32m     41\u001b[0m \u001b[39mif\u001b[39;00m \u001b[39m__name__\u001b[39m \u001b[39m==\u001b[39m \u001b[39m'\u001b[39m\u001b[39m__main__\u001b[39m\u001b[39m'\u001b[39m:\n\u001b[0;32m---> 42\u001b[0m     t \u001b[39m=\u001b[39m Martingale()\n\u001b[1;32m     43\u001b[0m     \u001b[39m# t.submit_order(3)\u001b[39;00m\n\u001b[1;32m     44\u001b[0m \n\u001b[1;32m     45\u001b[0m \u001b[39m# account = api.get_account()\u001b[39;00m\n\u001b[1;32m     46\u001b[0m \u001b[39m# account.status\u001b[39;00m\n",
      "Cell \u001b[0;32mIn[18], line 16\u001b[0m, in \u001b[0;36mMartingale.__init__\u001b[0;34m(self)\u001b[0m\n\u001b[1;32m     13\u001b[0m \u001b[39mexcept\u001b[39;00m:\n\u001b[1;32m     14\u001b[0m     \u001b[39mself\u001b[39m\u001b[39m.\u001b[39mposition \u001b[39m=\u001b[39m \u001b[39m0\u001b[39m\n\u001b[0;32m---> 16\u001b[0m \u001b[39mprint\u001b[39m(\u001b[39mself\u001b[39;49m\u001b[39m.\u001b[39;49mapi\u001b[39m.\u001b[39;49mget_position(\u001b[39mself\u001b[39;49m\u001b[39m.\u001b[39;49msymbol))\n",
      "File \u001b[0;32m~/.local/lib/python3.10/site-packages/alpaca_trade_api/rest.py:504\u001b[0m, in \u001b[0;36mREST.get_position\u001b[0;34m(self, symbol)\u001b[0m\n\u001b[1;32m    502\u001b[0m \u001b[39mdef\u001b[39;00m \u001b[39mget_position\u001b[39m(\u001b[39mself\u001b[39m, symbol: \u001b[39mstr\u001b[39m) \u001b[39m-\u001b[39m\u001b[39m>\u001b[39m Position:\n\u001b[1;32m    503\u001b[0m     \u001b[39m\"\"\"Get an open position\"\"\"\u001b[39;00m\n\u001b[0;32m--> 504\u001b[0m     resp \u001b[39m=\u001b[39m \u001b[39mself\u001b[39;49m\u001b[39m.\u001b[39;49mget(\u001b[39m'\u001b[39;49m\u001b[39m/positions/\u001b[39;49m\u001b[39m{}\u001b[39;49;00m\u001b[39m'\u001b[39;49m\u001b[39m.\u001b[39;49mformat(symbol))\n\u001b[1;32m    505\u001b[0m     \u001b[39mreturn\u001b[39;00m \u001b[39mself\u001b[39m\u001b[39m.\u001b[39mresponse_wrapper(resp, Position)\n",
      "File \u001b[0;32m~/.local/lib/python3.10/site-packages/alpaca_trade_api/rest.py:250\u001b[0m, in \u001b[0;36mREST.get\u001b[0;34m(self, path, data)\u001b[0m\n\u001b[1;32m    249\u001b[0m \u001b[39mdef\u001b[39;00m \u001b[39mget\u001b[39m(\u001b[39mself\u001b[39m, path, data\u001b[39m=\u001b[39m\u001b[39mNone\u001b[39;00m):\n\u001b[0;32m--> 250\u001b[0m     \u001b[39mreturn\u001b[39;00m \u001b[39mself\u001b[39;49m\u001b[39m.\u001b[39;49m_request(\u001b[39m'\u001b[39;49m\u001b[39mGET\u001b[39;49m\u001b[39m'\u001b[39;49m, path, data)\n",
      "File \u001b[0;32m~/.local/lib/python3.10/site-packages/alpaca_trade_api/rest.py:213\u001b[0m, in \u001b[0;36mREST._request\u001b[0;34m(self, method, path, data, base_url, api_version)\u001b[0m\n\u001b[1;32m    211\u001b[0m \u001b[39mwhile\u001b[39;00m retry \u001b[39m>\u001b[39m\u001b[39m=\u001b[39m \u001b[39m0\u001b[39m:\n\u001b[1;32m    212\u001b[0m     \u001b[39mtry\u001b[39;00m:\n\u001b[0;32m--> 213\u001b[0m         \u001b[39mreturn\u001b[39;00m \u001b[39mself\u001b[39;49m\u001b[39m.\u001b[39;49m_one_request(method, url, opts, retry)\n\u001b[1;32m    214\u001b[0m     \u001b[39mexcept\u001b[39;00m RetryException:\n\u001b[1;32m    215\u001b[0m         retry_wait \u001b[39m=\u001b[39m \u001b[39mself\u001b[39m\u001b[39m.\u001b[39m_retry_wait\n",
      "File \u001b[0;32m~/.local/lib/python3.10/site-packages/alpaca_trade_api/rest.py:242\u001b[0m, in \u001b[0;36mREST._one_request\u001b[0;34m(self, method, url, opts, retry)\u001b[0m\n\u001b[1;32m    240\u001b[0m     error \u001b[39m=\u001b[39m resp\u001b[39m.\u001b[39mjson()\n\u001b[1;32m    241\u001b[0m     \u001b[39mif\u001b[39;00m \u001b[39m'\u001b[39m\u001b[39mcode\u001b[39m\u001b[39m'\u001b[39m \u001b[39min\u001b[39;00m error:\n\u001b[0;32m--> 242\u001b[0m         \u001b[39mraise\u001b[39;00m APIError(error, http_error)\n\u001b[1;32m    243\u001b[0m \u001b[39melse\u001b[39;00m:\n\u001b[1;32m    244\u001b[0m     \u001b[39mraise\u001b[39;00m\n",
      "\u001b[0;31mAPIError\u001b[0m: position does not exist"
     ]
    }
   ],
   "source": [
    "class Martingale(object):\n",
    "    def __init__(self):\n",
    "        self.key = \"PKWRE9AKDSDX7AH2UJNB\"\n",
    "        self.secret = \"i2mYCn7F0xl39iSCVYVcLfiDe6vDwfgm8CBEUsCG\"\n",
    "        self.alpaca_endpoint = \"https://paper-api.alpaca.markets\"\n",
    "        self.api = tradeapi.REST(self.key, self.secret, self.alpaca_endpoint)\n",
    "        self.symbol = 'ETHUSD'\n",
    "        self.current_order = None\n",
    "        self.last_price = 1\n",
    "\n",
    "        try:\n",
    "            self.position = int(self.api.get_position(self.symbol).qty)\n",
    "        except:\n",
    "            self.position = 0\n",
    "        \n",
    "        print(self.api.get_position(self.symbol))\n",
    "\n",
    "    def submit_order(self, target):\n",
    "        if self.current_order is not None:\n",
    "            self.api.cancel_order(self.current_order.id)\n",
    "\n",
    "        delta = target - self.position\n",
    "        if delta == 0:\n",
    "            return\n",
    "        print(f'Processing the order for {target} shares')\n",
    "\n",
    "        if delta > 0:\n",
    "            buy_quantity = delta\n",
    "            if self.position < 0:\n",
    "                buy_quantity = min(abs(self.position), buy_quantity)\n",
    "            print(f'Buying {buy_quantity} shares')\n",
    "            self.current_order = self.api.submit_order(self.symbol, buy_quantity, 'buy', 'limit', 'gtc', self.last_price)\n",
    "\n",
    "        elif delta < 0:\n",
    "            sell_quantity = abs(delta)\n",
    "            if self.position > 0:\n",
    "                sell_quantity = min(abs(self.position), sell_quantity)\n",
    "            print(f'Selling {sell_quantity} shares')\n",
    "            self.current_order = self.api.submit_order(self.symbol, sell_quantity, 'sell', 'limit', 'gtc', self.last_price)\n",
    "\n",
    "if __name__ == '__main__':\n",
    "    t = Martingale()\n",
    "    # t.submit_order(3)\n",
    "\n",
    "# account = api.get_account()\n",
    "# account.status"
   ]
  },
  {
   "cell_type": "code",
   "execution_count": null,
   "metadata": {},
   "outputs": [],
   "source": []
  }
 ],
 "metadata": {
  "kernelspec": {
   "display_name": "Python 3",
   "language": "python",
   "name": "python3"
  },
  "language_info": {
   "codemirror_mode": {
    "name": "ipython",
    "version": 3
   },
   "file_extension": ".py",
   "mimetype": "text/x-python",
   "name": "python",
   "nbconvert_exporter": "python",
   "pygments_lexer": "ipython3",
   "version": "3.10.9"
  },
  "orig_nbformat": 4,
  "vscode": {
   "interpreter": {
    "hash": "e7370f93d1d0cde622a1f8e1c04877d8463912d04d973331ad4851f04de6915a"
   }
  }
 },
 "nbformat": 4,
 "nbformat_minor": 2
}
