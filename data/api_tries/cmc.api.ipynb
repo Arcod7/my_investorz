{
 "cells": [
  {
   "cell_type": "code",
   "execution_count": 16,
   "metadata": {},
   "outputs": [],
   "source": [
    "api_key = 'ca75be30-dc13-4650-ba1f-75adca30eea5'"
   ]
  },
  {
   "cell_type": "code",
   "execution_count": 26,
   "metadata": {},
   "outputs": [
    {
     "name": "stdout",
     "output_type": "stream",
     "text": [
      "{'data': {'1027': {'circulating_supply': 122373866.2178,\n",
      "                   'cmc_rank': 2,\n",
      "                   'date_added': '2015-08-07T00:00:00.000Z',\n",
      "                   'id': 1027,\n",
      "                   'is_active': 1,\n",
      "                   'is_fiat': 0,\n",
      "                   'last_updated': '2023-02-11T17:41:00.000Z',\n",
      "                   'max_supply': None,\n",
      "                   'name': 'Ethereum',\n",
      "                   'num_market_pairs': 6448,\n",
      "                   'platform': None,\n",
      "                   'quote': {'USD': {'fully_diluted_market_cap': 185731109607.18,\n",
      "                                     'last_updated': '2023-02-11T17:41:00.000Z',\n",
      "                                     'market_cap': 185731109607.1786,\n",
      "                                     'market_cap_dominance': 18.353,\n",
      "                                     'percent_change_1h': -0.16044348,\n",
      "                                     'percent_change_24h': -0.33952795,\n",
      "                                     'percent_change_30d': 7.18885857,\n",
      "                                     'percent_change_60d': 15.15231461,\n",
      "                                     'percent_change_7d': -9.59783183,\n",
      "                                     'percent_change_90d': 23.77241496,\n",
      "                                     'price': 1517.735079780971,\n",
      "                                     'tvl': None,\n",
      "                                     'volume_24h': 5927909007.190551,\n",
      "                                     'volume_change_24h': -43.4822}},\n",
      "                   'self_reported_circulating_supply': None,\n",
      "                   'self_reported_market_cap': None,\n",
      "                   'slug': 'ethereum',\n",
      "                   'symbol': 'ETH',\n",
      "                   'tags': ['pos',\n",
      "                            'smart-contracts',\n",
      "                            'ethereum-ecosystem',\n",
      "                            'coinbase-ventures-portfolio',\n",
      "                            'three-arrows-capital-portfolio',\n",
      "                            'polychain-capital-portfolio',\n",
      "                            'binance-labs-portfolio',\n",
      "                            'blockchain-capital-portfolio',\n",
      "                            'boostvc-portfolio',\n",
      "                            'cms-holdings-portfolio',\n",
      "                            'dcg-portfolio',\n",
      "                            'dragonfly-capital-portfolio',\n",
      "                            'electric-capital-portfolio',\n",
      "                            'fabric-ventures-portfolio',\n",
      "                            'framework-ventures-portfolio',\n",
      "                            'hashkey-capital-portfolio',\n",
      "                            'kenetic-capital-portfolio',\n",
      "                            'huobi-capital-portfolio',\n",
      "                            'alameda-research-portfolio',\n",
      "                            'a16z-portfolio',\n",
      "                            '1confirmation-portfolio',\n",
      "                            'winklevoss-capital-portfolio',\n",
      "                            'usv-portfolio',\n",
      "                            'placeholder-ventures-portfolio',\n",
      "                            'pantera-capital-portfolio',\n",
      "                            'multicoin-capital-portfolio',\n",
      "                            'paradigm-portfolio',\n",
      "                            'injective-ecosystem'],\n",
      "                   'total_supply': 122373866.2178,\n",
      "                   'tvl_ratio': None}},\n",
      " 'status': {'credit_count': 1,\n",
      "            'elapsed': 31,\n",
      "            'error_code': 0,\n",
      "            'error_message': None,\n",
      "            'notice': None,\n",
      "            'timestamp': '2023-02-11T17:42:57.818Z'}}\n"
     ]
    }
   ],
   "source": [
    "from requests import Request, Session\n",
    "import json\n",
    "import time\n",
    "import webbrowser\n",
    "import pprint\n",
    "\n",
    "def getInfo (): # Function to get the info\n",
    "\n",
    "    url = 'https://pro-api.coinmarketcap.com/v1/cryptocurrency/quotes/latest' # Coinmarketcap API url\n",
    "\n",
    "    parameters = { 'slug': 'ethereum', 'convert': 'USD' } # API parameters to pass in for retrieving specific cryptocurrency data\n",
    "\n",
    "    headers = {\n",
    "        'Accepts': 'application/json',\n",
    "        'X-CMC_PRO_API_KEY': api_key\n",
    "    } # Replace 'YOUR_API_KEY' with the API key you have recieved in the previous step\n",
    "\n",
    "    session = Session()\n",
    "    session.headers.update(headers)\n",
    "\n",
    "    response = session.get(url, params=parameters)\n",
    "\n",
    "    info = json.loads(response.text)\n",
    "\n",
    "    pprint.pprint(info)\n",
    "\n",
    "getInfo() # Calling the function to get the statistics"
   ]
  },
  {
   "cell_type": "code",
   "execution_count": null,
   "metadata": {},
   "outputs": [],
   "source": []
  }
 ],
 "metadata": {
  "kernelspec": {
   "display_name": "Python 3",
   "language": "python",
   "name": "python3"
  },
  "language_info": {
   "codemirror_mode": {
    "name": "ipython",
    "version": 3
   },
   "file_extension": ".py",
   "mimetype": "text/x-python",
   "name": "python",
   "nbconvert_exporter": "python",
   "pygments_lexer": "ipython3",
   "version": "3.10.9"
  },
  "orig_nbformat": 4,
  "vscode": {
   "interpreter": {
    "hash": "e7370f93d1d0cde622a1f8e1c04877d8463912d04d973331ad4851f04de6915a"
   }
  }
 },
 "nbformat": 4,
 "nbformat_minor": 2
}
